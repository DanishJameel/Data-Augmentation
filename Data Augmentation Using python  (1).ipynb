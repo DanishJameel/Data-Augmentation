{
 "cells": [
  {
   "cell_type": "code",
   "execution_count": 6,
   "id": "00494690",
   "metadata": {},
   "outputs": [],
   "source": []
  },
  {
   "cell_type": "code",
   "execution_count": 7,
   "id": "9d535d31",
   "metadata": {},
   "outputs": [],
   "source": []
  },
  {
   "cell_type": "code",
   "execution_count": null,
   "id": "92fc778c",
   "metadata": {},
   "outputs": [],
   "source": [
    "pip install keras # inatall the Librarries  "
   ]
  },
  {
   "cell_type": "code",
   "execution_count": null,
   "id": "cb4e0768",
   "metadata": {},
   "outputs": [],
   "source": [
    "pip install tensorflow # inatall the Librarries  "
   ]
  },
  {
   "cell_type": "code",
   "execution_count": null,
   "id": "aaacce6e",
   "metadata": {},
   "outputs": [],
   "source": []
  },
  {
   "cell_type": "code",
   "execution_count": 21,
   "id": "6be8e36f",
   "metadata": {},
   "outputs": [],
   "source": []
  },
  {
   "cell_type": "code",
   "execution_count": 23,
   "id": "7d7b2de9",
   "metadata": {},
   "outputs": [],
   "source": [
    "from tensorflow.keras.utils import load_img\n",
    "from tensorflow.keras.utils import img_to_array"
   ]
  },
  {
   "cell_type": "code",
   "execution_count": 31,
   "id": "9e39bdd3",
   "metadata": {},
   "outputs": [],
   "source": [
    "\n",
    "from tensorflow.keras.utils import img_to_array\n",
    "import os \n",
    "from keras.preprocessing.image import ImageDataGenerator \n",
    "\n",
    "# define the directory where the original images are located\n",
    "original_directory =  r'F:\\Strokefaces\\not_stroke'\n",
    "\n",
    "# define the directory where the augmented images will be saved\n",
    "augmented_directory = r'F:\\Strokefaces\\Stroke_data'\n",
    "\n",
    "# define the data generator\n",
    "datagen = ImageDataGenerator(\n",
    "    rotation_range=40,\n",
    "    width_shift_range=0.2,\n",
    "    height_shift_range=0.2,\n",
    "    shear_range=0.2,\n",
    "    zoom_range=0.2,\n",
    "    horizontal_flip=True,\n",
    "    fill_mode='nearest')\n",
    "\n",
    "# loop through all images in the original directory\n",
    "for filename in os.listdir(original_directory):\n",
    "    # load the image and convert it to a numpy array\n",
    "    image = load_img(os.path.join(original_directory, filename))\n",
    "    image = img_to_array(image)\n",
    "    \n",
    "    # reshape the image to be a 4D tensor for the data generator\n",
    "    image = image.reshape((1,) + image.shape)\n",
    "    \n",
    "    # loop through all augmented images\n",
    "    i = 0\n",
    "    for batch in datagen.flow(image, save_to_dir=augmented_directory, save_prefix='aug', save_format='jpg'):\n",
    "        i += 1\n",
    "        if i > 60: # Number of augmented images to generate \n",
    "            break"
   ]
  },
  {
   "cell_type": "code",
   "execution_count": 32,
   "id": "73e32019",
   "metadata": {},
   "outputs": [],
   "source": [
    "import os\n",
    "from keras.preprocessing.image import ImageDataGenerator\n",
    "\n",
    "# define the directory where the original images are located\n",
    "original_directory =  r'F:\\Strokefaces\\stroke'\n",
    "\n",
    "# define the directory where the augmented images will be saved\n",
    "augmented_directory = r'F:\\Strokefaces\\not_stroke_data'\n",
    "\n",
    "# define the data generator\n",
    "datagen = ImageDataGenerator(\n",
    "    rotation_range=40,\n",
    "    width_shift_range=0.2,\n",
    "    height_shift_range=0.2,\n",
    "    shear_range=0.2,\n",
    "    zoom_range=0.2,\n",
    "    horizontal_flip=True,\n",
    "    fill_mode='nearest')\n",
    "\n",
    "# loop through all images in the original directory\n",
    "for filename in os.listdir(original_directory):\n",
    "    # load the image and convert it to a numpy array\n",
    "    image = load_img(os.path.join(original_directory, filename))\n",
    "    image = img_to_array(image)\n",
    "    \n",
    "    # reshape the image to be a 4D tensor for the data generator\n",
    "    image = image.reshape((1,) + image.shape)\n",
    "    \n",
    "    # loop through all augmented images\n",
    "    i = 0\n",
    "    for batch in datagen.flow(image, save_to_dir=augmented_directory, save_prefix='aug', save_format='jpg'):\n",
    "        i += 1\n",
    "        if i > 60: # Number of augmented images to generate \n",
    "            break"
   ]
  },
  {
   "cell_type": "code",
   "execution_count": null,
   "id": "0c926e77",
   "metadata": {},
   "outputs": [],
   "source": []
  }
 ],
 "metadata": {
  "kernelspec": {
   "display_name": "Python 3 (ipykernel)",
   "language": "python",
   "name": "python3"
  },
  "language_info": {
   "codemirror_mode": {
    "name": "ipython",
    "version": 3
   },
   "file_extension": ".py",
   "mimetype": "text/x-python",
   "name": "python",
   "nbconvert_exporter": "python",
   "pygments_lexer": "ipython3",
   "version": "3.9.12"
  }
 },
 "nbformat": 4,
 "nbformat_minor": 5
}
